{
  "cells": [
    {
    "attachments": {
      "19f4d615-3d6c-48bf-bb3e-032608238617.png": {
      "image/png": "[encoded data removed]"
      }
    },
    "cell_type": "markdown",
    "id": "7b83f235-67ed-441d-b871-edb3912d2a96",
    "metadata": {
      "tags": []
    },
    "source": [
      "![TOMORROW-Sublogo-T-LAB-Full-Green_B-RGB.png](attachment:19f4d615-3d6c-48bf-bb3e-032608238617.png)"
    ]
    },
    {
    "cell_type": "markdown",
    "id": "7774c83d-f8f8-467e-b2ed-b21b08ace5da",
    "metadata": {},
    "source": [
      "### Welcome to T-Lab!\n",
      "Where your data story begins\n",
      "\n",
      "This notebook is a guide on how to make the best out of the T-Lab platform.\n",
      "Follow the links below to explore the powers of T-Lab"
    ]
    },
    {
    "cell_type": "markdown",
    "id": "f3e2d79f-4ebd-4e2f-b13a-e70019f96247",
    "metadata": {},
    "source": [
      "1. [Getting started](https://www.notion.so/t-lab/Getting-started-343b489199824c29ae0fd1ddcd71b23e) - Create your first project and start working on T-Lab"
    ]
    },
    {
    "cell_type": "markdown",
    "id": "5334e136-b27c-4b16-8208-7bf98b69f18d",
    "metadata": {},
    "source": [
      "2. [Connect to a databse](https://www.notion.so/t-lab/Integrations-5eab89561e034ffdad807cfc23c8d5ce) - Connect to your data and bring it to your notebook right away."
    ]
    },
    {
    "cell_type": "markdown",
    "id": "bf453e24-2b54-4bc3-98be-2381f8915e0a",
    "metadata": {},
    "source": [
      "3. [Search & Discovery](https://www.notion.so/t-lab/Search-9e0b2a8d72b94dd48717b5f1564ba9a6) - Look for projects, notebooks, cell codes, data apps and authors that are related to your work and use them to create new exciting things"
    ]
    },
    {
    "cell_type": "markdown",
    "id": "f4d3c475-2afd-4dec-af8c-0adac00582a9",
    "metadata": {},
    "source": [
      "4. [Create data apps](https://www.notion.so/t-lab/Create-data-apps-9f05a2e0e9014248af9dff75fa42ae23) - Turn your output into rich online data apps that you can easily share"
    ]
    },
    {
    "cell_type": "markdown",
    "id": "14001433-17bb-4846-bc51-1157e2cfa28b",
    "metadata": {},
    "source": [
      "Hit the projects icon on the left to start creating your own projects\n",
      "Hit the ? icon on the left if you want to chat with us\n",
      "\n",
      "Enjoy!"
    ]
    },
    {
    "cell_type": "code",
    "execution_count": null,
    "id": "5f9c665e-519e-4fd1-9b95-661c2809283d",
    "metadata": {},
    "outputs": [],
    "source": []
    }
  ],
  "metadata": {
    "kernelspec": {
    "display_name": "Python 3 (ipykernel)",
    "language": "python",
    "name": "python3"
    },
    "language_info": {
    "codemirror_mode": {
      "name": "ipython",
      "version": 3
    },
    "file_extension": ".py",
    "mimetype": "text/x-python",
    "name": "python",
    "nbconvert_exporter": "python",
    "pygments_lexer": "ipython3",
    "version": "3.10.4"
    }
  },
  "nbformat": 4,
  "nbformat_minor": 5
  }
