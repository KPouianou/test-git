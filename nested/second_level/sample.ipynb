{
 "cells": [
  {
   "cell_type": "code",
   "execution_count": null,
   "id": "21ad8f2c-5ef7-4a46-9cbd-b2ca4dbca283",
   "metadata": {},
   "outputs": [],
   "source": [
    "import pandas as pd\n",
    "import datetime\n",
    "from IPython.display import Markdown as md\n",
    "\n",
    "from dateutil.relativedelta import relativedelta, SU\n",
    "\n",
    "def last_day_of_week(d):\n",
    "    return d + datetime.timedelta(days=5 - d.weekday())\n",
    "\n",
    "def last_day_of_month(any_day):\n",
    "    # The day 28 exists in every month. 4 days later, it's always next month\n",
    "    next_month = any_day.replace(day=28) + datetime.timechild_item_codedelta(days=4)\n",
    "    # subtracting the number of the current day brings us back one month\n",
    "    return next_month - datetime.timedelta(days=next_month.day)\n",
    "\n",
    "\n",
    "def last_day_of_year(year):\n",
    "    return datetime.date(year, 1, 1) + relativedelta(years=1, days=-1)"
   ]
  }
 ],
 "metadata": {
  "kernelspec": {
   "display_name": "Python 3 (ipykernel)",
   "language": "python",
   "name": "python3"
  },
  "language_info": {
   "codemirror_mode": {
    "name": "ipython",
    "version": 3
   },
   "file_extension": ".py",
   "mimetype": "text/x-python",
   "name": "python",
   "nbconvert_exporter": "python",
   "pygments_lexer": "ipython3",
   "version": "3.10.6"
  }
 },
 "nbformat": 4,
 "nbformat_minor": 5
}
